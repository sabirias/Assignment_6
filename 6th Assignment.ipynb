{
 "cells": [
  {
   "cell_type": "code",
   "execution_count": null,
   "id": "9b88aa75-73ca-4580-8f99-df7659ea7b1b",
   "metadata": {},
   "outputs": [],
   "source": [
    "                                                    Assignment:-6"
   ]
  },
  {
   "cell_type": "code",
   "execution_count": null,
   "id": "5edff116-48d7-45cd-9c0c-b42075d185a1",
   "metadata": {},
   "outputs": [],
   "source": [
    "1) Explain Class and Object with respect to Object-Oriented Programming. Give a suitable example.\n",
    "\n",
    "ANS:- \n",
    "Class:\n",
    "A class is a user-defined data type in OOP that encapsulates data (attributes) and methods (functions) to operate on that data. \n",
    "It serves as a template or blueprint from which objects can be created. The class defines the common structure and behavior that its instances (objects)\n",
    "will share. The attributes represent the data associated with the class, and the methods represent the actions or behaviors that the objects can perform.\n",
    "\n",
    "Object:\n",
    "An object is an instance of a class. It is a concrete realization of the attributes and behaviors defined by the class. Objects have a state (defined by the\n",
    "values of their attributes) and can perform actions (invoking methods). Multiple objects can be created from the same class, each with its own set of\n",
    "attribute values."
   ]
  },
  {
   "cell_type": "code",
   "execution_count": 1,
   "id": "cc7ec271-669c-41c2-8ac9-6e72b4bc27a2",
   "metadata": {},
   "outputs": [
    {
     "name": "stdout",
     "output_type": "stream",
     "text": [
      "Toyota Camry has 4 wheels.\n",
      "The Toyota Camry is now running.\n",
      "The Honda Accord is now running.\n",
      "The Toyota Camry has stopped.\n"
     ]
    }
   ],
   "source": [
    "class Car:\n",
    "    # Class variable\n",
    "    wheels = 4\n",
    "\n",
    "    # Constructor method\n",
    "    def __init__(self, make, model):\n",
    "        # Instance variables\n",
    "        self.make = make\n",
    "        self.model = model\n",
    "        self.is_running = False\n",
    "\n",
    "    # Method to start the car\n",
    "    def start(self):\n",
    "        self.is_running = True\n",
    "        print(f\"The {self.make} {self.model} is now running.\")\n",
    "\n",
    "    # Method to stop the car\n",
    "    def stop(self):\n",
    "        self.is_running = False\n",
    "        print(f\"The {self.make} {self.model} has stopped.\")\n",
    "\n",
    "# Creating instances (objects) of the Car class\n",
    "car1 = Car(\"Toyota\", \"Camry\")\n",
    "car2 = Car(\"Honda\", \"Accord\")\n",
    "\n",
    "# Accessing attributes and invoking methods\n",
    "print(f\"{car1.make} {car1.model} has {Car.wheels} wheels.\")\n",
    "car1.start()\n",
    "car2.start()\n",
    "car1.stop()\n"
   ]
  },
  {
   "cell_type": "code",
   "execution_count": null,
   "id": "fe00173e-b1a1-46c6-b492-3746b8a39ab4",
   "metadata": {},
   "outputs": [],
   "source": [
    "2) Name the four pillars of OOPs.\n",
    "\n",
    "ANS:-  a)Encapsulation\n",
    "       b)Abstraction\n",
    "       c)Inheritance\n",
    "       d)Polymorphism"
   ]
  },
  {
   "cell_type": "code",
   "execution_count": null,
   "id": "9ea51f55-937a-4278-a452-741c5297cd35",
   "metadata": {},
   "outputs": [],
   "source": [
    "3)  Explain why the __init__() function is used. Give a suitable example.\n",
    "\n",
    "ANS:- The __init__() function is a special function in Python that is called when an object is created.\n",
    "      It is used to initialize the object's attributes.\n",
    "\n",
    "       For example, the following code creates a class called Person with two attributes: name and age.\n",
    "       The __init__() function is used to initialize these attributes:"
   ]
  },
  {
   "cell_type": "code",
   "execution_count": 2,
   "id": "73d8e5cd-765a-4130-ac5b-d3cd7c85b308",
   "metadata": {},
   "outputs": [],
   "source": [
    "class Person:\n",
    "  def __init__(self, name, age):\n",
    "    self.name = name\n",
    "    self.age = age\n",
    "\n",
    "person = Person(\"John Doe\", 30)"
   ]
  },
  {
   "cell_type": "code",
   "execution_count": 8,
   "id": "038bfaf1-cc2c-437e-899f-1bc9395a1289",
   "metadata": {},
   "outputs": [
    {
     "name": "stdout",
     "output_type": "stream",
     "text": [
      "My dog's name is Buddy and is 3 years old.\n",
      "Woof! Woof!\n"
     ]
    }
   ],
   "source": [
    "class Dog:\n",
    "    # The __init__ method is used to initialize the attributes of the Dog class\n",
    "    def __init__(self, name, age):\n",
    "        self.name = name\n",
    "        self.age = age\n",
    "\n",
    "    def bark(self):\n",
    "        print(\"Woof! Woof!\")\n",
    "\n",
    "# Creating an instance of the Dog class and providing values for the attributes\n",
    "my_dog = Dog(name=\"Buddy\", age=3)\n",
    "\n",
    "# Accessing the attributes and invoking a method\n",
    "print(f\"My dog's name is {my_dog.name} and is {my_dog.age} years old.\")\n",
    "my_dog.bark()\n"
   ]
  },
  {
   "cell_type": "code",
   "execution_count": null,
   "id": "bcba3a6b-5851-46b6-9859-72f73bd1ae08",
   "metadata": {},
   "outputs": [],
   "source": [
    "4) Why self is used in OOPs?\n",
    "\n",
    "ANS:- The self is used to represent the instance of the class. With this keyword, you can access the attributes and\n",
    "      methods of the class in python. It binds the attributes with the given arguments. The reason why we use self is that\n",
    "      Python does not use the '@' syntax to refer to instance attributes."
   ]
  },
  {
   "cell_type": "code",
   "execution_count": null,
   "id": "98eaf6ea-3d0f-4683-b37f-6d13860317c3",
   "metadata": {},
   "outputs": [],
   "source": [
    "5) What is inheritance? Give an example for each type of inheritance. \n",
    "\n",
    "ANS:- Inheritance is one of the key principles of object-oriented programming (OOP) that allows a new class\n",
    "      (called the subclass or derived class) to inherit the properties and behaviors of an existing class\n",
    "      (called the superclass or base class). This concept promotes code reuse, as the subclass can reuse and extend \n",
    "      the features of the superclass.\n",
    "\n",
    "      There are different types of inheritance:\n",
    "\n",
    "      Single Inheritance:\n",
    "              In single inheritance, a subclass inherits from only one superclass. It forms a simple parent-child relationship."
   ]
  },
  {
   "cell_type": "code",
   "execution_count": 9,
   "id": "cffe92d0-adc8-4be6-b155-cf997f803f6d",
   "metadata": {},
   "outputs": [
    {
     "name": "stdout",
     "output_type": "stream",
     "text": [
      "Animal speaks\n",
      "Dog barks\n"
     ]
    }
   ],
   "source": [
    "class Animal:\n",
    "    def speak(self):\n",
    "        print(\"Animal speaks\")\n",
    "\n",
    "class Dog(Animal):\n",
    "    def bark(self):\n",
    "        print(\"Dog barks\")\n",
    "\n",
    "# Creating an instance of Dog\n",
    "my_dog = Dog()\n",
    "my_dog.speak()  # Inherited from Animal\n",
    "my_dog.bark()   # Defined in Dog\n"
   ]
  },
  {
   "cell_type": "code",
   "execution_count": null,
   "id": "285e0a39-713b-4805-9d28-d6e8995ec6dc",
   "metadata": {},
   "outputs": [],
   "source": [
    "Multiple Inheritance:\n",
    "\n",
    "In multiple inheritance, a subclass inherits from multiple superclasses.\n",
    "It allows a class to inherit features from more than one parent class."
   ]
  },
  {
   "cell_type": "code",
   "execution_count": 10,
   "id": "44be47a7-f70a-4aaf-8d6c-3a44767002de",
   "metadata": {},
   "outputs": [
    {
     "name": "stdout",
     "output_type": "stream",
     "text": [
      "Method A\n",
      "Method B\n",
      "Method C\n"
     ]
    }
   ],
   "source": [
    "class A:\n",
    "    def method_A(self):\n",
    "        print(\"Method A\")\n",
    "\n",
    "class B:\n",
    "    def method_B(self):\n",
    "        print(\"Method B\")\n",
    "\n",
    "class C(A, B):\n",
    "    def method_C(self):\n",
    "        print(\"Method C\")\n",
    "\n",
    "# Creating an instance of C\n",
    "obj_c = C()\n",
    "obj_c.method_A()  # Inherited from A\n",
    "obj_c.method_B()  # Inherited from B\n",
    "obj_c.method_C()  # Defined in C\n"
   ]
  },
  {
   "cell_type": "code",
   "execution_count": null,
   "id": "df96ab0a-0067-4dbb-882d-4ae9d9bf0f41",
   "metadata": {},
   "outputs": [],
   "source": [
    "Multilevel Inheritance:\n",
    "\n",
    "In multilevel inheritance, a class inherits from another class, and then another class inherits from the derived class,\n",
    "forming a chain of inheritance."
   ]
  },
  {
   "cell_type": "code",
   "execution_count": null,
   "id": "f5410a7f-4e99-4898-a173-dbe5ec32e86d",
   "metadata": {},
   "outputs": [],
   "source": []
  }
 ],
 "metadata": {
  "kernelspec": {
   "display_name": "Python 3 (ipykernel)",
   "language": "python",
   "name": "python3"
  },
  "language_info": {
   "codemirror_mode": {
    "name": "ipython",
    "version": 3
   },
   "file_extension": ".py",
   "mimetype": "text/x-python",
   "name": "python",
   "nbconvert_exporter": "python",
   "pygments_lexer": "ipython3",
   "version": "3.10.8"
  }
 },
 "nbformat": 4,
 "nbformat_minor": 5
}
